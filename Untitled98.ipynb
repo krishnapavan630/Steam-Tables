{
 "cells": [
  {
   "cell_type": "code",
   "execution_count": 1,
   "id": "385d74e1",
   "metadata": {},
   "outputs": [],
   "source": [
    "import pandas as pd\n",
    "import numpy as np\n",
    "import matplotlib.pyplot as plt"
   ]
  },
  {
   "cell_type": "code",
   "execution_count": 3,
   "id": "4fe65f63",
   "metadata": {},
   "outputs": [],
   "source": [
    "data=pd.read_csv(\"steam_tables(modified1) (1).csv\")"
   ]
  },
  {
   "cell_type": "code",
   "execution_count": 4,
   "id": "807caefa",
   "metadata": {},
   "outputs": [
    {
     "data": {
      "text/html": [
       "<div>\n",
       "<style scoped>\n",
       "    .dataframe tbody tr th:only-of-type {\n",
       "        vertical-align: middle;\n",
       "    }\n",
       "\n",
       "    .dataframe tbody tr th {\n",
       "        vertical-align: top;\n",
       "    }\n",
       "\n",
       "    .dataframe thead th {\n",
       "        text-align: right;\n",
       "    }\n",
       "</style>\n",
       "<table border=\"1\" class=\"dataframe\">\n",
       "  <thead>\n",
       "    <tr style=\"text-align: right;\">\n",
       "      <th></th>\n",
       "      <th>Temp</th>\n",
       "      <th>Sat_press</th>\n",
       "      <th>Spec_vol_Sat_liquid</th>\n",
       "      <th>Internal_energy_Sat_liquid</th>\n",
       "      <th>Internal_energy_Evap</th>\n",
       "      <th>Internal_energy_Sat_vapour</th>\n",
       "      <th>Enthalpy_Sat_liquid</th>\n",
       "      <th>Enthalpy_Evap</th>\n",
       "      <th>Enthalpy_Sat_vapour</th>\n",
       "      <th>Entropy_Sat_liquid</th>\n",
       "      <th>Entropy_Evap</th>\n",
       "      <th>Entropy_Sat_vapour</th>\n",
       "    </tr>\n",
       "  </thead>\n",
       "  <tbody>\n",
       "    <tr>\n",
       "      <th>0</th>\n",
       "      <td>0.01</td>\n",
       "      <td>0.6117</td>\n",
       "      <td>0.001000</td>\n",
       "      <td>0.000</td>\n",
       "      <td>2374.9</td>\n",
       "      <td>2374.9</td>\n",
       "      <td>0.001</td>\n",
       "      <td>2500.9</td>\n",
       "      <td>2500.9</td>\n",
       "      <td>0.0000</td>\n",
       "      <td>9.1556</td>\n",
       "      <td>9.1556</td>\n",
       "    </tr>\n",
       "    <tr>\n",
       "      <th>1</th>\n",
       "      <td>5.00</td>\n",
       "      <td>0.8728</td>\n",
       "      <td>0.001000</td>\n",
       "      <td>21.019</td>\n",
       "      <td>2360.8</td>\n",
       "      <td>2381.8</td>\n",
       "      <td>21.020</td>\n",
       "      <td>2489.1</td>\n",
       "      <td>2510.1</td>\n",
       "      <td>0.0763</td>\n",
       "      <td>8.9487</td>\n",
       "      <td>9.0249</td>\n",
       "    </tr>\n",
       "    <tr>\n",
       "      <th>2</th>\n",
       "      <td>10.00</td>\n",
       "      <td>1.2281</td>\n",
       "      <td>0.001000</td>\n",
       "      <td>42.020</td>\n",
       "      <td>2346.6</td>\n",
       "      <td>2388.7</td>\n",
       "      <td>42.022</td>\n",
       "      <td>2477.2</td>\n",
       "      <td>2519.2</td>\n",
       "      <td>0.1511</td>\n",
       "      <td>8.7488</td>\n",
       "      <td>8.8999</td>\n",
       "    </tr>\n",
       "    <tr>\n",
       "      <th>3</th>\n",
       "      <td>15.00</td>\n",
       "      <td>1.7057</td>\n",
       "      <td>0.001001</td>\n",
       "      <td>62.980</td>\n",
       "      <td>2332.5</td>\n",
       "      <td>2395.5</td>\n",
       "      <td>62.982</td>\n",
       "      <td>2465.4</td>\n",
       "      <td>2528.3</td>\n",
       "      <td>0.2245</td>\n",
       "      <td>8.5559</td>\n",
       "      <td>2.7803</td>\n",
       "    </tr>\n",
       "    <tr>\n",
       "      <th>4</th>\n",
       "      <td>20.00</td>\n",
       "      <td>2.3392</td>\n",
       "      <td>0.001002</td>\n",
       "      <td>83.913</td>\n",
       "      <td>2318.4</td>\n",
       "      <td>2402.3</td>\n",
       "      <td>83.915</td>\n",
       "      <td>2453.5</td>\n",
       "      <td>2537.4</td>\n",
       "      <td>0.2965</td>\n",
       "      <td>8.3696</td>\n",
       "      <td>8.6661</td>\n",
       "    </tr>\n",
       "    <tr>\n",
       "      <th>...</th>\n",
       "      <td>...</td>\n",
       "      <td>...</td>\n",
       "      <td>...</td>\n",
       "      <td>...</td>\n",
       "      <td>...</td>\n",
       "      <td>...</td>\n",
       "      <td>...</td>\n",
       "      <td>...</td>\n",
       "      <td>...</td>\n",
       "      <td>...</td>\n",
       "      <td>...</td>\n",
       "      <td>...</td>\n",
       "    </tr>\n",
       "    <tr>\n",
       "      <th>144</th>\n",
       "      <td>361.47</td>\n",
       "      <td>19000.0000</td>\n",
       "      <td>0.001926</td>\n",
       "      <td>1740.300</td>\n",
       "      <td>598.9</td>\n",
       "      <td>2339.2</td>\n",
       "      <td>1776.800</td>\n",
       "      <td>689.2</td>\n",
       "      <td>2466.0</td>\n",
       "      <td>3.9396</td>\n",
       "      <td>1.0860</td>\n",
       "      <td>5.0256</td>\n",
       "    </tr>\n",
       "    <tr>\n",
       "      <th>145</th>\n",
       "      <td>365.75</td>\n",
       "      <td>20000.0000</td>\n",
       "      <td>0.002038</td>\n",
       "      <td>1785.800</td>\n",
       "      <td>509.0</td>\n",
       "      <td>2294.8</td>\n",
       "      <td>1826.600</td>\n",
       "      <td>585.5</td>\n",
       "      <td>2412.1</td>\n",
       "      <td>4.0146</td>\n",
       "      <td>0.9164</td>\n",
       "      <td>4.9310</td>\n",
       "    </tr>\n",
       "    <tr>\n",
       "      <th>146</th>\n",
       "      <td>369.83</td>\n",
       "      <td>21000.0000</td>\n",
       "      <td>0.002207</td>\n",
       "      <td>1841.600</td>\n",
       "      <td>391.9</td>\n",
       "      <td>2233.5</td>\n",
       "      <td>1888.000</td>\n",
       "      <td>450.4</td>\n",
       "      <td>2338.4</td>\n",
       "      <td>4.1071</td>\n",
       "      <td>0.7005</td>\n",
       "      <td>4.8076</td>\n",
       "    </tr>\n",
       "    <tr>\n",
       "      <th>147</th>\n",
       "      <td>373.71</td>\n",
       "      <td>22000.0000</td>\n",
       "      <td>0.002703</td>\n",
       "      <td>1951.700</td>\n",
       "      <td>140.8</td>\n",
       "      <td>2092.4</td>\n",
       "      <td>2011.100</td>\n",
       "      <td>161.5</td>\n",
       "      <td>2172.6</td>\n",
       "      <td>4.2942</td>\n",
       "      <td>0.2496</td>\n",
       "      <td>4.5439</td>\n",
       "    </tr>\n",
       "    <tr>\n",
       "      <th>148</th>\n",
       "      <td>373.95</td>\n",
       "      <td>22064.0000</td>\n",
       "      <td>0.003106</td>\n",
       "      <td>2015.700</td>\n",
       "      <td>0.0</td>\n",
       "      <td>2015.7</td>\n",
       "      <td>2084.300</td>\n",
       "      <td>0.0</td>\n",
       "      <td>2084.3</td>\n",
       "      <td>4.4070</td>\n",
       "      <td>0.0000</td>\n",
       "      <td>4.4070</td>\n",
       "    </tr>\n",
       "  </tbody>\n",
       "</table>\n",
       "<p>149 rows × 12 columns</p>\n",
       "</div>"
      ],
      "text/plain": [
       "       Temp   Sat_press  Spec_vol_Sat_liquid  Internal_energy_Sat_liquid  \\\n",
       "0      0.01      0.6117             0.001000                       0.000   \n",
       "1      5.00      0.8728             0.001000                      21.019   \n",
       "2     10.00      1.2281             0.001000                      42.020   \n",
       "3     15.00      1.7057             0.001001                      62.980   \n",
       "4     20.00      2.3392             0.001002                      83.913   \n",
       "..      ...         ...                  ...                         ...   \n",
       "144  361.47  19000.0000             0.001926                    1740.300   \n",
       "145  365.75  20000.0000             0.002038                    1785.800   \n",
       "146  369.83  21000.0000             0.002207                    1841.600   \n",
       "147  373.71  22000.0000             0.002703                    1951.700   \n",
       "148  373.95  22064.0000             0.003106                    2015.700   \n",
       "\n",
       "     Internal_energy_Evap  Internal_energy_Sat_vapour  Enthalpy_Sat_liquid  \\\n",
       "0                  2374.9                      2374.9                0.001   \n",
       "1                  2360.8                      2381.8               21.020   \n",
       "2                  2346.6                      2388.7               42.022   \n",
       "3                  2332.5                      2395.5               62.982   \n",
       "4                  2318.4                      2402.3               83.915   \n",
       "..                    ...                         ...                  ...   \n",
       "144                 598.9                      2339.2             1776.800   \n",
       "145                 509.0                      2294.8             1826.600   \n",
       "146                 391.9                      2233.5             1888.000   \n",
       "147                 140.8                      2092.4             2011.100   \n",
       "148                   0.0                      2015.7             2084.300   \n",
       "\n",
       "     Enthalpy_Evap  Enthalpy_Sat_vapour  Entropy_Sat_liquid  Entropy_Evap  \\\n",
       "0           2500.9               2500.9              0.0000        9.1556   \n",
       "1           2489.1               2510.1              0.0763        8.9487   \n",
       "2           2477.2               2519.2              0.1511        8.7488   \n",
       "3           2465.4               2528.3              0.2245        8.5559   \n",
       "4           2453.5               2537.4              0.2965        8.3696   \n",
       "..             ...                  ...                 ...           ...   \n",
       "144          689.2               2466.0              3.9396        1.0860   \n",
       "145          585.5               2412.1              4.0146        0.9164   \n",
       "146          450.4               2338.4              4.1071        0.7005   \n",
       "147          161.5               2172.6              4.2942        0.2496   \n",
       "148            0.0               2084.3              4.4070        0.0000   \n",
       "\n",
       "     Entropy_Sat_vapour   \n",
       "0                 9.1556  \n",
       "1                 9.0249  \n",
       "2                 8.8999  \n",
       "3                 2.7803  \n",
       "4                 8.6661  \n",
       "..                   ...  \n",
       "144               5.0256  \n",
       "145               4.9310  \n",
       "146               4.8076  \n",
       "147               4.5439  \n",
       "148               4.4070  \n",
       "\n",
       "[149 rows x 12 columns]"
      ]
     },
     "execution_count": 4,
     "metadata": {},
     "output_type": "execute_result"
    }
   ],
   "source": [
    "data"
   ]
  },
  {
   "cell_type": "code",
   "execution_count": 5,
   "id": "46d8d3b3",
   "metadata": {},
   "outputs": [
    {
     "name": "stdout",
     "output_type": "stream",
     "text": [
      "Training Data Shape 126\n",
      "Testing Data Shape 23\n"
     ]
    }
   ],
   "source": [
    "split=np.random.rand(len(data))<0.8\n",
    "train=data[split]\n",
    "test=data[~split]\n",
    "print(\"Training Data Shape\",len(train))\n",
    "print(\"Testing Data Shape\",len(test))"
   ]
  },
  {
   "cell_type": "markdown",
   "id": "9a195d6b",
   "metadata": {},
   "source": [
    "# Finding the Specific Volume of Saturated Liquid Using Linear Regression"
   ]
  },
  {
   "cell_type": "code",
   "execution_count": 6,
   "id": "0d2c698e",
   "metadata": {},
   "outputs": [
    {
     "name": "stdout",
     "output_type": "stream",
     "text": [
      "Reg_coeff [[-2.71774892e-07  5.91560089e-08]]\n",
      "Reg_intercept [0.00105936]\n"
     ]
    },
    {
     "data": {
      "image/png": "[encoded data removed]",
      "text/plain": [
       "<Figure size 432x288 with 1 Axes>"
      ]
     },
     "metadata": {
      "needs_background": "light"
     },
     "output_type": "display_data"
    },
    {
     "name": "stdout",
     "output_type": "stream",
     "text": [
      "MSE: 1.6787102550467078e-08\n",
      "R2 Score: 0.8698621449230826\n",
      "[[0.00202715]]\n"
     ]
    }
   ],
   "source": [
    "#Importing LinearRegression from Scikitlearn\n",
    "from sklearn import linear_model\n",
    "reg1=linear_model.LinearRegression()\n",
    "#Taking the required data from the whole\n",
    "inp1=np.asanyarray(train[['Temp','Sat_press']])\n",
    "out1=np.asanyarray(train[['Spec_vol_Sat_liquid']])\n",
    "reg1.fit(inp1,out1)\n",
    "print(\"Reg_coeff\",reg1.coef_)\n",
    "print(\"Reg_intercept\",reg1.intercept_)\n",
    "#visualization of the original and predicted data\n",
    "x = np.arange(0,len(train),1)\n",
    "plt.scatter(x,out1,color = \"blue\")\n",
    "plt.scatter(x,reg1.coef_[0][0]*train.Temp + reg1.coef_[0][1]*train.Sat_press+reg1.intercept_[0], color = \"green\")\n",
    "plt.xlabel (\"Temperature and Pressure\")\n",
    "plt.ylabel (\"Specific Volume of Saturated Liquid\")\n",
    "plt.show()\n",
    "inp1test = np.asanyarray(data[['Temp','Sat_press']])\n",
    "out1test = np.asanyarray(data[['Spec_vol_Sat_liquid']])\n",
    "out1pred = reg1.predict(inp1test)\n",
    "#Finding the R2 score and Mean squared error for original and predicted outputs\n",
    "from sklearn.metrics import mean_squared_error,r2_score\n",
    "print (\"MSE:\",mean_squared_error (out1test,out1pred))\n",
    "print (\"R2 Score:\",r2_score(out1test,out1pred))\n",
    "print(reg1.predict(np.array([[356.99,18000]])))"
   ]
  },
  {
   "cell_type": "code",
   "execution_count": 7,
   "id": "2c58c352",
   "metadata": {},
   "outputs": [
    {
     "name": "stdout",
     "output_type": "stream",
     "text": [
      "Reg_coeff [[3.9563703  0.01678778]]\n",
      "Reg_intercept [17.6924073]\n"
     ]
    },
    {
     "data": {
      "image/png": "[encoded data removed]",
      "text/plain": [
       "<Figure size 432x288 with 1 Axes>"
      ]
     },
     "metadata": {
      "needs_background": "light"
     },
     "output_type": "display_data"
    },
    {
     "name": "stdout",
     "output_type": "stream",
     "text": [
      "MSE: 834.0222405991179\n",
      "R2 Score: 0.9969086717043568\n",
      "[[538.37787905]]\n"
     ]
    }
   ],
   "source": [
    "from sklearn import linear_model\n",
    "reg2=linear_model.LinearRegression()\n",
    "inp1=np.asanyarray(train[['Temp','Sat_press']])\n",
    "out1=np.asanyarray(train[['Internal_energy_Sat_liquid']])\n",
    "reg2.fit(inp1,out1)\n",
    "print(\"Reg_coeff\",reg2.coef_)\n",
    "print(\"Reg_intercept\",reg2.intercept_)\n",
    "x = np.arange(0,len(train),1)\n",
    "plt.scatter(x,out1,color = \"blue\")\n",
    "plt.scatter(x,reg2.coef_[0][0]*train.Temp + reg2.coef_[0][1]*train.Sat_press+reg2.intercept_[0], color = \"green\")\n",
    "plt.xlabel (\"'Temperature and Pressure'\")\n",
    "plt.ylabel (\"Internal_energy_Sat_liquid\")\n",
    "plt.show()\n",
    "inp1test = np.asanyarray(data[['Temp','Sat_press']])\n",
    "out1test = np.asanyarray(data[['Internal_energy_Sat_liquid']])\n",
    "out1pred = reg2.predict(inp1test)\n",
    "from sklearn.metrics import mean_squared_error,r2_score\n",
    "print (\"MSE:\",mean_squared_error (out1test,out1pred))\n",
    "print (\"R2 Score:\",r2_score(out1test,out1pred))\n",
    "print(reg2.predict(np.array([[130.46,270.28]])))"
   ]
  },
  {
   "cell_type": "code",
   "execution_count": 8,
   "id": "1ddd7856",
   "metadata": {},
   "outputs": [
    {
     "name": "stdout",
     "output_type": "stream",
     "text": [
      "Reg_coeff [[-2.4426398  -0.04844275]]\n",
      "Reg_intercept [2340.01397083]\n"
     ]
    },
    {
     "data": {
      "image/png": "[encoded data removed]",
      "text/plain": [
       "<Figure size 432x288 with 1 Axes>"
      ]
     },
     "metadata": {
      "needs_background": "light"
     },
     "output_type": "display_data"
    },
    {
     "name": "stdout",
     "output_type": "stream",
     "text": [
      "MSE: 1864879.8485547616\n",
      "R2 Score: -5.912232747739311\n",
      "[[1642.70759381]]\n"
     ]
    }
   ],
   "source": [
    "from sklearn import linear_model\n",
    "reg4=linear_model.LinearRegression()\n",
    "inp1=np.asanyarray(train[['Temp','Sat_press']])\n",
    "out1=np.asanyarray(train[['Internal_energy_Evap']])\n",
    "reg4.fit(inp1,out1)\n",
    "print(\"Reg_coeff\",reg4.coef_)\n",
    "print(\"Reg_intercept\",reg4.intercept_)\n",
    "x = np.arange(0,len(train),1)\n",
    "plt.scatter(x,out1,color = \"blue\")\n",
    "plt.scatter(x,reg4.coef_[0][0]*train.Temp + reg4.coef_[0][1]*train.Sat_press+reg4.intercept_[0], color = \"green\")\n",
    "plt.xlabel (\"'Temperature and Pressure'\")\n",
    "plt.ylabel (\"Internal_energy_Evap\")\n",
    "plt.show()\n",
    "inp1test = np.asanyarray(data[['Temp','Sat_press']])\n",
    "out1test = np.asanyarray(data[['Internal_energy_Sat_liquid']])\n",
    "out1pred = reg4.predict(inp1test)\n",
    "from sklearn.metrics import mean_squared_error,r2_score\n",
    "print (\"MSE:\",mean_squared_error (out1test,out1pred))\n",
    "print (\"R2 Score:\",r2_score(out1test,out1pred))\n",
    "print(reg4.predict(np.array([[230,2797.1]])))"
   ]
  },
  {
   "cell_type": "code",
   "execution_count": 9,
   "id": "890f67fe",
   "metadata": {},
   "outputs": [
    {
     "name": "stdout",
     "output_type": "stream",
     "text": [
      "Reg_coeff [[ 1.52699799 -0.03216765]]\n",
      "Reg_intercept [2360.9367148]\n"
     ]
    },
    {
     "data": {
      "image/png": "[encoded data removed]",
      "text/plain": [
       "<Figure size 432x288 with 1 Axes>"
      ]
     },
     "metadata": {
      "needs_background": "light"
     },
     "output_type": "display_data"
    },
    {
     "name": "stdout",
     "output_type": "stream",
     "text": [
      "MSE: 1577.433900630095\n",
      "R2 Score: 0.8664056086948577\n",
      "[[2622.17012766]]\n"
     ]
    }
   ],
   "source": [
    "from sklearn import linear_model\n",
    "reg5=linear_model.LinearRegression()\n",
    "inp1=np.asanyarray(train[['Temp','Sat_press']])\n",
    "out1=np.asanyarray(train[['Internal_energy_Sat_vapour']])\n",
    "reg5.fit(inp1,out1)\n",
    "print(\"Reg_coeff\",reg5.coef_)\n",
    "print(\"Reg_intercept\",reg5.intercept_)\n",
    "x = np.arange(0,len(train),1)\n",
    "plt.scatter(x,out1,color = \"blue\")\n",
    "plt.scatter(x,reg5.coef_[0][0]*train.Temp + reg5.coef_[0][1]*train.Sat_press+reg5.intercept_[0], color = \"green\")\n",
    "plt.xlabel (\"'Temperature and Pressure'\")\n",
    "plt.ylabel (\"Internal_energy_Evap\")\n",
    "plt.show()\n",
    "inp1test = np.asanyarray(data[['Temp','Sat_press']])\n",
    "out1test = np.asanyarray(data[['Internal_energy_Sat_vapour']])\n",
    "out1pred = reg5.predict(inp1test)\n",
    "from sklearn.metrics import mean_squared_error,r2_score\n",
    "print (\"MSE:\",mean_squared_error (out1test,out1pred))\n",
    "print (\"R2 Score:\",r2_score(out1test,out1pred))\n",
    "print(reg5.predict(np.array([[230,2797.1]])))"
   ]
  },
  {
   "cell_type": "code",
   "execution_count": 10,
   "id": "9b7377a0",
   "metadata": {},
   "outputs": [
    {
     "name": "stdout",
     "output_type": "stream",
     "text": [
      "Reg_coeff [[3.92642951 0.01918391]]\n",
      "Reg_intercept [21.82450184]\n"
     ]
    },
    {
     "data": {
      "image/png": "[encoded data removed]",
      "text/plain": [
       "<Figure size 432x288 with 1 Axes>"
      ]
     },
     "metadata": {
      "needs_background": "light"
     },
     "output_type": "display_data"
    },
    {
     "name": "stdout",
     "output_type": "stream",
     "text": [
      "MSE: 1119.2000651822784\n",
      "R2 Score: 0.9960166744706718\n",
      "[[978.56261407]]\n"
     ]
    }
   ],
   "source": [
    "from sklearn import linear_model\n",
    "reg6=linear_model.LinearRegression()\n",
    "inp1=np.asanyarray(train[['Temp','Sat_press']])\n",
    "out1=np.asanyarray(train[['Enthalpy_Sat_liquid']])\n",
    "reg6.fit(inp1,out1)\n",
    "print(\"Reg_coeff\",reg6.coef_)\n",
    "print(\"Reg_intercept\",reg6.intercept_)\n",
    "x = np.arange(0,len(train),1)\n",
    "plt.scatter(x,out1,color = \"blue\")\n",
    "plt.scatter(x,reg6.coef_[0][0]*train.Temp + reg6.coef_[0][1]*train.Sat_press+reg6.intercept_[0], color = \"green\")\n",
    "plt.xlabel (\"'Temperature and Pressure'\")\n",
    "plt.ylabel (\"Enthalpy_Sat_liquid\")\n",
    "plt.show()\n",
    "inp1test = np.asanyarray(data[['Temp','Sat_press']])\n",
    "out1test = np.asanyarray(data[['Enthalpy_Sat_liquid']])\n",
    "out1pred = reg6.predict(inp1test)\n",
    "from sklearn.metrics import mean_squared_error,r2_score\n",
    "print (\"MSE:\",mean_squared_error (out1test,out1pred))\n",
    "print (\"R2 Score:\",r2_score(out1test,out1pred))\n",
    "print(reg6.predict(np.array([[230,2797.1]])))"
   ]
  },
  {
   "cell_type": "code",
   "execution_count": 11,
   "id": "278ce900",
   "metadata": {},
   "outputs": [
    {
     "name": "stdout",
     "output_type": "stream",
     "text": [
      "Reg_coeff [[-2.5684615  -0.05509884]]\n",
      "Reg_intercept [2594.78868434]\n"
     ]
    },
    {
     "data": {
      "image/png": "[encoded data removed]",
      "text/plain": [
       "<Figure size 432x288 with 1 Axes>"
      ]
     },
     "metadata": {
      "needs_background": "light"
     },
     "output_type": "display_data"
    },
    {
     "name": "stdout",
     "output_type": "stream",
     "text": [
      "MSE: 170319.57937922812\n",
      "R2 Score: 0.6708897758772884\n",
      "[[1556.35332723]]\n"
     ]
    }
   ],
   "source": [
    "from sklearn import linear_model\n",
    "reg7=linear_model.LinearRegression()\n",
    "inp1=np.asanyarray(train[['Temp','Sat_press']])\n",
    "out1=np.asanyarray(train[['Enthalpy_Evap']])\n",
    "reg7.fit(inp1,out1)\n",
    "print(\"Reg_coeff\",reg7.coef_)\n",
    "print(\"Reg_intercept\",reg7.intercept_)\n",
    "x = np.arange(0,len(train),1)\n",
    "plt.scatter(x,out1,color = \"blue\")\n",
    "plt.scatter(x,reg7.coef_[0][0]*train.Temp + reg7.coef_[0][1]*train.Sat_press+reg7.intercept_[0], color = \"green\")\n",
    "plt.xlabel (\"'Temperature and Pressure'\")\n",
    "plt.ylabel (\"Enthalpy_Evap\")\n",
    "plt.show()\n",
    "inp1test = np.asanyarray(data[['Temp','Sat_press']])\n",
    "out1test = np.asanyarray(data[['Enthalpy_Evap']])\n",
    "out1pred = reg7.predict(inp1test)\n",
    "from sklearn.metrics import mean_squared_error,r2_score\n",
    "print (\"MSE:\",mean_squared_error (out1test,out1pred))\n",
    "print (\"R2 Score:\",r2_score(out1test,out1pred))\n",
    "print(reg7.predict(np.array([[275.59,6000]])))"
   ]
  },
  {
   "cell_type": "code",
   "execution_count": 12,
   "id": "66721ce2",
   "metadata": {},
   "outputs": [
    {
     "name": "stdout",
     "output_type": "stream",
     "text": [
      "Reg_coeff [[ 1.93857504 -0.04004581]]\n",
      "Reg_intercept [2484.87046306]\n"
     ]
    },
    {
     "data": {
      "image/png": "[encoded data removed]",
      "text/plain": [
       "<Figure size 432x288 with 1 Axes>"
      ]
     },
     "metadata": {
      "needs_background": "light"
     },
     "output_type": "display_data"
    },
    {
     "name": "stdout",
     "output_type": "stream",
     "text": [
      "MSE: 1584.184438937501\n",
      "R2 Score: 0.9096869216757004\n",
      "[[2778.84749435]]\n"
     ]
    }
   ],
   "source": [
    "from sklearn import linear_model\n",
    "reg8=linear_model.LinearRegression()\n",
    "inp1=np.asanyarray(train[['Temp','Sat_press']])\n",
    "out1=np.asanyarray(train[['Enthalpy_Sat_vapour']])\n",
    "reg8.fit(inp1,out1)\n",
    "print(\"Reg_coeff\",reg8.coef_)\n",
    "print(\"Reg_intercept\",reg8.intercept_)\n",
    "x = np.arange(0,len(train),1)\n",
    "plt.scatter(x,out1,color = \"blue\")\n",
    "plt.scatter(x,reg8.coef_[0][0]*train.Temp + reg8.coef_[0][1]*train.Sat_press+reg8.intercept_[0], color = \"green\")\n",
    "plt.xlabel (\"'Temperature and Pressure'\")\n",
    "plt.ylabel (\"Enthalpy_Sat_vapour\")\n",
    "plt.show()\n",
    "inp1test = np.asanyarray(data[['Temp','Sat_press']])\n",
    "out1test = np.asanyarray(data[['Enthalpy_Sat_vapour']])\n",
    "out1pred = reg8.predict(inp1test)\n",
    "from sklearn.metrics import mean_squared_error,r2_score\n",
    "print (\"MSE:\",mean_squared_error (out1test,out1pred))\n",
    "print (\"R2 Score:\",r2_score(out1test,out1pred))\n",
    "print(reg8.predict(np.array([[275.59,6000]])))"
   ]
  },
  {
   "cell_type": "code",
   "execution_count": 13,
   "id": "7145ba9c",
   "metadata": {},
   "outputs": [
    {
     "name": "stdout",
     "output_type": "stream",
     "text": [
      "Reg_coeff [[ 1.06409570e-02 -4.28408166e-06]]\n",
      "Reg_intercept [0.18150113]\n"
     ]
    },
    {
     "data": {
      "image/png": "[encoded data removed]",
      "text/plain": [
       "<Figure size 432x288 with 1 Axes>"
      ]
     },
     "metadata": {
      "needs_background": "light"
     },
     "output_type": "display_data"
    },
    {
     "name": "stdout",
     "output_type": "stream",
     "text": [
      "MSE: 0.007422618236770277\n",
      "R2 Score: 0.9941769260500911\n",
      "[[3.08833799]]\n"
     ]
    }
   ],
   "source": [
    "from sklearn import linear_model\n",
    "reg9=linear_model.LinearRegression()\n",
    "inp1=np.asanyarray(train[['Temp','Sat_press']])\n",
    "out1=np.asanyarray(train[['Entropy_Sat_liquid']])\n",
    "reg9.fit(inp1,out1)\n",
    "print(\"Reg_coeff\",reg9.coef_)\n",
    "print(\"Reg_intercept\",reg9.intercept_)\n",
    "x = np.arange(0,len(train),1)\n",
    "plt.scatter(x,out1,color = \"blue\")\n",
    "plt.scatter(x,reg9.coef_[0][0]*train.Temp + reg9.coef_[0][1]*train.Sat_press+reg9.intercept_[0], color = \"green\")\n",
    "plt.xlabel (\"'Temperature and Pressure'\")\n",
    "plt.ylabel (\"Entropy_Sat_liquid\")\n",
    "plt.show()\n",
    "inp1test = np.asanyarray(data[['Temp','Sat_press']])\n",
    "out1test = np.asanyarray(data[['Entropy_Sat_liquid']])\n",
    "out1pred = reg9.predict(inp1test)\n",
    "from sklearn.metrics import mean_squared_error,r2_score\n",
    "print (\"MSE:\",mean_squared_error (out1test,out1pred))\n",
    "print (\"R2 Score:\",r2_score(out1test,out1pred))\n",
    "print(reg9.predict(np.array([[275.59,6000]])))"
   ]
  },
  {
   "cell_type": "code",
   "execution_count": 14,
   "id": "1451d82f",
   "metadata": {},
   "outputs": [
    {
     "name": "stdout",
     "output_type": "stream",
     "text": [
      "Reg_coeff [[-2.16972664e-02  2.71306666e-05]]\n",
      "Reg_intercept [8.45329254]\n"
     ]
    },
    {
     "data": {
      "image/png": "[encoded data removed]",
      "text/plain": [
       "<Figure size 432x288 with 1 Axes>"
      ]
     },
     "metadata": {
      "needs_background": "light"
     },
     "output_type": "display_data"
    },
    {
     "name": "stdout",
     "output_type": "stream",
     "text": [
      "MSE: 0.06752324884821409\n",
      "R2 Score: 0.9862399876425052\n",
      "[[2.63652689]]\n"
     ]
    }
   ],
   "source": [
    "from sklearn import linear_model\n",
    "reg10=linear_model.LinearRegression()\n",
    "inp1=np.asanyarray(train[['Temp','Sat_press']])\n",
    "out1=np.asanyarray(train[['Entropy_Evap']])\n",
    "reg10.fit(inp1,out1)\n",
    "print(\"Reg_coeff\",reg10.coef_)\n",
    "print(\"Reg_intercept\",reg10.intercept_)\n",
    "x = np.arange(0,len(train),1)\n",
    "plt.scatter(x,out1,color = \"blue\")\n",
    "plt.scatter(x,reg10.coef_[0][0]*train.Temp + reg10.coef_[0][1]*train.Sat_press+reg10.intercept_[0], color = \"green\")\n",
    "plt.xlabel (\"'Temperature and Pressure'\")\n",
    "plt.ylabel (\"Entropy_Evap\")\n",
    "plt.show()\n",
    "inp1test = np.asanyarray(data[['Temp','Sat_press']])\n",
    "out1test = np.asanyarray(data[['Entropy_Evap']])\n",
    "out1pred = reg10.predict(inp1test)\n",
    "from sklearn.metrics import mean_squared_error,r2_score\n",
    "print (\"MSE:\",mean_squared_error (out1test,out1pred))\n",
    "print (\"R2 Score:\",r2_score(out1test,out1pred))\n",
    "print(reg10.predict(np.array([[275.59,6000]])))"
   ]
  },
  {
   "cell_type": "code",
   "execution_count": 15,
   "id": "86007fac",
   "metadata": {},
   "outputs": [
    {
     "name": "stdout",
     "output_type": "stream",
     "text": [
      "Reg_coeff [[-7.79553823e-03 -1.51577438e-05]]\n",
      "Reg_intercept [8.09029595]\n"
     ]
    },
    {
     "data": {
      "image/png": "[encoded data removed]",
      "text/plain": [
       "<Figure size 432x288 with 1 Axes>"
      ]
     },
     "metadata": {
      "needs_background": "light"
     },
     "output_type": "display_data"
    },
    {
     "name": "stdout",
     "output_type": "stream",
     "text": [
      "MSE: 0.4441282957424233\n",
      "R2 Score: 0.6695681848243813\n",
      "[[5.8509771]]\n"
     ]
    }
   ],
   "source": [
    "from sklearn import linear_model\n",
    "reg11=linear_model.LinearRegression()\n",
    "inp1=np.asanyarray(train[['Temp','Sat_press']])\n",
    "out1=np.asanyarray(train[['Entropy_Sat_vapour ']])\n",
    "reg11.fit(inp1,out1)\n",
    "print(\"Reg_coeff\",reg11.coef_)\n",
    "print(\"Reg_intercept\",reg11.intercept_)\n",
    "x = np.arange(0,len(train),1)\n",
    "plt.scatter(x,out1,color = \"blue\")\n",
    "plt.scatter(x,reg11.coef_[0][0]*train.Temp + reg11.coef_[0][1]*train.Sat_press+reg11.intercept_[0], color = \"green\")\n",
    "plt.xlabel (\"'Temperature and Pressure'\")\n",
    "plt.ylabel (\"Entropy_Sat_vapour \")\n",
    "plt.show()\n",
    "inp1test = np.asanyarray(data[['Temp','Sat_press']])\n",
    "out1test = np.asanyarray(data[['Entropy_Sat_vapour ']])\n",
    "out1pred = reg11.predict(inp1test)\n",
    "from sklearn.metrics import mean_squared_error,r2_score\n",
    "print (\"MSE:\",mean_squared_error (out1test,out1pred))\n",
    "print (\"R2 Score:\",r2_score(out1test,out1pred))\n",
    "print(reg11.predict(np.array([[275.59,6000]])))"
   ]
  },
  {
   "cell_type": "code",
   "execution_count": null,
   "id": "8d42bb40",
   "metadata": {},
   "outputs": [],
   "source": []
  }
 ],
 "metadata": {
  "kernelspec": {
   "display_name": "Python 3",
   "language": "python",
   "name": "python3"
  },
  "language_info": {
   "codemirror_mode": {
    "name": "ipython",
    "version": 3
   },
   "file_extension": ".py",
   "mimetype": "text/x-python",
   "name": "python",
   "nbconvert_exporter": "python",
   "pygments_lexer": "ipython3",
   "version": "3.8.8"
  }
 },
 "nbformat": 4,
 "nbformat_minor": 5
}
